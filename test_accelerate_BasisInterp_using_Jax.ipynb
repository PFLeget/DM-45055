{
 "cells": [
  {
   "cell_type": "code",
   "execution_count": 1,
   "id": "1d82717c-1289-4645-80c5-ddc8581f318d",
   "metadata": {},
   "outputs": [],
   "source": [
    "import piff\n",
    "import numpy as np\n",
    "import matplotlib.pyplot as plt\n",
    "import pickle\n",
    "import copy\n",
    "import time\n",
    "import cProfile\n",
    "import pstats\n",
    "import jax\n",
    "from jax import config\n",
    "# if want to use float64 for jax, default will be float32 with jax\n",
    "# faster with float32...\n",
    "# config.update(\"jax_enable_x64\", True)"
   ]
  },
  {
   "cell_type": "code",
   "execution_count": 2,
   "id": "d82c79aa-4d25-472a-890b-5dd556965794",
   "metadata": {},
   "outputs": [
    {
     "name": "stderr",
     "output_type": "stream",
     "text": [
      "Iteration 1: Fitting 118 stars\n"
     ]
    },
    {
     "name": "stdout",
     "output_type": "stream",
     "text": [
      "{'type': 'Simple', 'model': {'type': 'PixelGrid', 'scale': 0.16839226517851116, 'size': 25, 'interp': 'Lanczos(11)'}, 'interp': {'type': 'BasisPolynomial', 'order': 2}, 'outliers': {'type': 'Chisq', 'nsigma': 4.0, 'max_remove': 0.05}}\n"
     ]
    },
    {
     "name": "stderr",
     "output_type": "stream",
     "text": [
      "nq = 3750\n",
      "Beginning solution of matrix size (3750, 3750)\n",
      "             Total chisq = 64075.13 / 72029 dof\n",
      "Iteration 2: Fitting 118 stars\n",
      "nq = 3750\n",
      "Beginning solution of matrix size (3750, 3750)\n",
      "Checking 118 stars for outliers\n",
      "Minimum dof = 497 with thresh = 627.063937 * 1.000000 = 627.063937\n",
      "Maximum dof = 622 with thresh = 766.399073 * 1.000000 = 766.399073\n",
      "Found 9 stars with chisq > thresh\n",
      "             Removed 6 outliers\n",
      "             Total chisq = 44329.60 / 68419 dof\n",
      "Iteration 3: Fitting 112 stars\n",
      "nq = 3750\n",
      "Beginning solution of matrix size (3750, 3750)\n",
      "Checking 112 stars for outliers\n",
      "Minimum dof = 497 with thresh = 627.063937 * 1.000000 = 627.063937\n",
      "Maximum dof = 622 with thresh = 766.399073 * 1.000000 = 766.399073\n",
      "Found 3 stars with chisq > thresh\n",
      "             Removed 3 outliers\n",
      "             Total chisq = 41877.24 / 66603 dof\n",
      "Iteration 4: Fitting 109 stars\n",
      "nq = 3750\n",
      "Beginning solution of matrix size (3750, 3750)\n",
      "Checking 109 stars for outliers\n",
      "Minimum dof = 497 with thresh = 627.063937 * 1.000000 = 627.063937\n",
      "Maximum dof = 622 with thresh = 766.399073 * 1.000000 = 766.399073\n",
      "             Total chisq = 41861.54 / 66603 dof\n"
     ]
    },
    {
     "name": "stdout",
     "output_type": "stream",
     "text": [
      "Total run time: 16.07547092437744\n",
      "Mon Jul  8 09:22:43 2024    profile_data\n",
      "\n",
      "         3117396 function calls (2970938 primitive calls) in 16.073 seconds\n",
      "\n",
      "   Ordered by: cumulative time\n",
      "   List reduced from 521 to 20 due to restriction <20>\n",
      "\n",
      "   ncalls  tottime  percall  cumtime  percall filename:lineno(function)\n",
      "        1    0.000    0.000   16.073   16.073 {built-in method builtins.exec}\n",
      "        1    0.000    0.000   16.073   16.073 <string>:1(<module>)\n",
      "        1    0.009    0.009   16.073   16.073 2967559449.py:17(my_function)\n",
      "        1    0.139    0.139   16.065   16.065 psf.py:369(fit)\n",
      "        4    0.030    0.007   14.995    3.749 simplepsf.py:163(single_iteration)\n",
      "        4    0.011    0.003   13.483    3.371 basis_interp.py:138(solve)\n",
      "        4   10.824    2.706   13.473    3.368 basis_interp.py:288(_solve_direct)\n",
      "        4    1.408    0.352    1.408    0.352 _basic.py:52(solve)\n",
      "      457    0.741    0.002    1.317    0.003 pixelgrid.py:226(chisq)\n",
      "     2330    1.183    0.001    1.183    0.001 {method 'dot' of 'numpy.ndarray' objects}\n",
      "      457    0.001    0.000    1.141    0.002 star.py:965(alpha)\n",
      "        4    0.003    0.001    0.620    0.155 psf.py:331(reflux_stars)\n",
      "      472    0.022    0.000    0.617    0.001 psf.py:215(reflux)\n",
      "119826/2708    0.078    0.000    0.469    0.000 copy.py:128(deepcopy)\n",
      "8426/2708    0.013    0.000    0.459    0.000 copy.py:259(_reconstruct)\n",
      "10332/2708    0.015    0.000    0.445    0.000 copy.py:227(_deepcopy_dict)\n",
      "      944    0.022    0.000    0.426    0.000 simplepsf.py:239(_drawStar)\n",
      "      944    0.004    0.000    0.404    0.000 model.py:137(draw)\n",
      "     1755    0.001    0.000    0.365    0.000 star.py:1043(withNew)\n",
      "     1755    0.001    0.000    0.362    0.000 star.py:1040(copy)\n",
      "\n",
      "\n"
     ]
    },
    {
     "data": {
      "text/plain": [
       "<pstats.Stats at 0x36e2b6ce0>"
      ]
     },
     "execution_count": 2,
     "metadata": {},
     "output_type": "execute_result"
    }
   ],
   "source": [
    "# load data from a single ccd from subaru. Use the exact same input\n",
    "# of what is coming in Piff in LSST stack (in meas_extensions_piff)\n",
    "\n",
    "dic = pickle.load(open('piff_input_2024-06-24_13-43-22.pkl', 'rb'))\n",
    "\n",
    "stars = copy.deepcopy(dic['stars'])\n",
    "wcs = copy.deepcopy(dic['wcs'])\n",
    "pointing = copy.deepcopy(dic['pointing'])\n",
    "piffConfig = copy.deepcopy(dic['piffConfig'])\n",
    "\n",
    "# run piff with current config in LSST stack\n",
    "\n",
    "print(piffConfig)\n",
    "logger = piff.config.setup_logger(verbose=2)\n",
    "piffResult = piff.PSF.process(piffConfig)\n",
    "\n",
    "def my_function():\n",
    "    piffResult.fit(stars, wcs, pointing, logger=logger)\n",
    "\n",
    "start = time.time()\n",
    "cProfile.run('my_function()', 'profile_data')\n",
    "end = time.time()\n",
    "\n",
    "current_time = end - start\n",
    "\n",
    "print('Total run time: ' + str(current_time))\n",
    "\n",
    "p = pstats.Stats('profile_data')\n",
    "p.strip_dirs().sort_stats('cumulative').print_stats(20)"
   ]
  },
  {
   "cell_type": "code",
   "execution_count": 3,
   "id": "98096b62-f797-4ca5-8979-a97a6ab37162",
   "metadata": {},
   "outputs": [
    {
     "name": "stderr",
     "output_type": "stream",
     "text": [
      "Iteration 1: Fitting 118 stars\n"
     ]
    },
    {
     "name": "stdout",
     "output_type": "stream",
     "text": [
      "{'type': 'Simple', 'model': {'type': 'PixelGrid', 'scale': 0.16839226517851116, 'size': 25, 'interp': 'Lanczos(11)'}, 'interp': {'type': 'BasisPolynomial', 'order': 2, 'use_jax': True}, 'outliers': {'type': 'Chisq', 'nsigma': 4.0, 'max_remove': 0.05}}\n"
     ]
    },
    {
     "name": "stderr",
     "output_type": "stream",
     "text": [
      "nq = 3750\n",
      "Beginning solution of matrix size (3750, 3750)\n",
      "             Total chisq = 64075.13 / 72029 dof\n",
      "Iteration 2: Fitting 118 stars\n",
      "nq = 3750\n",
      "Beginning solution of matrix size (3750, 3750)\n",
      "Checking 118 stars for outliers\n",
      "Minimum dof = 497 with thresh = 627.063937 * 1.000000 = 627.063937\n",
      "Maximum dof = 622 with thresh = 766.399073 * 1.000000 = 766.399073\n",
      "Found 9 stars with chisq > thresh\n",
      "             Removed 6 outliers\n",
      "             Total chisq = 44329.60 / 68419 dof\n",
      "Iteration 3: Fitting 112 stars\n",
      "nq = 3750\n",
      "Beginning solution of matrix size (3750, 3750)\n",
      "Checking 112 stars for outliers\n",
      "Minimum dof = 497 with thresh = 627.063937 * 1.000000 = 627.063937\n",
      "Maximum dof = 622 with thresh = 766.399073 * 1.000000 = 766.399073\n",
      "Found 3 stars with chisq > thresh\n",
      "             Removed 3 outliers\n",
      "             Total chisq = 41877.24 / 66603 dof\n",
      "Iteration 4: Fitting 109 stars\n",
      "nq = 3750\n",
      "Beginning solution of matrix size (3750, 3750)\n",
      "Checking 109 stars for outliers\n",
      "Minimum dof = 497 with thresh = 627.063937 * 1.000000 = 627.063937\n",
      "Maximum dof = 622 with thresh = 766.399073 * 1.000000 = 766.399073\n",
      "             Total chisq = 41861.54 / 66603 dof\n"
     ]
    },
    {
     "name": "stdout",
     "output_type": "stream",
     "text": [
      "Total run time: 7.474876880645752\n",
      "Mon Jul  8 09:23:03 2024    profile_data\n",
      "\n",
      "         3267806 function calls (3120099 primitive calls) in 7.464 seconds\n",
      "\n",
      "   Ordered by: cumulative time\n",
      "   List reduced from 2213 to 20 due to restriction <20>\n",
      "\n",
      "   ncalls  tottime  percall  cumtime  percall filename:lineno(function)\n",
      "      9/1    0.000    0.000    7.465    7.465 {built-in method builtins.exec}\n",
      "        1    0.000    0.000    7.465    7.465 <string>:1(<module>)\n",
      "        1    0.013    0.013    7.465    7.465 1833065479.py:20(my_function)\n",
      "        1    0.158    0.158    7.451    7.451 psf.py:369(fit)\n",
      "        4    0.072    0.018    6.360    1.590 simplepsf.py:163(single_iteration)\n",
      "        4    0.031    0.008    4.762    1.191 basis_interp.py:138(solve)\n",
      "        4    1.091    0.273    4.731    1.183 basis_interp.py:288(_solve_direct)\n",
      "   144/76    0.000    0.000    2.529    0.033 core.py:389(bind_with_trace)\n",
      "     34/8    0.000    0.000    2.528    0.316 traceback_util.py:175(reraise_with_filtered_traceback)\n",
      "     30/8    0.000    0.000    2.528    0.316 pjit.py:302(cache_miss)\n",
      "     30/8    0.000    0.000    2.528    0.316 pjit.py:169(_python_pjit_helper)\n",
      "    16/14    0.000    0.000    2.522    0.180 core.py:873(process_primitive)\n",
      "    35/31    0.000    0.000    2.506    0.081 core.py:2783(bind)\n",
      "        8    0.000    0.000    2.501    0.313 pjit.py:1503(_pjit_call_impl)\n",
      "        8    0.000    0.000    2.501    0.313 pjit.py:1507(call_impl_cache_miss)\n",
      "        8    0.000    0.000    2.500    0.313 pjit.py:1429(_pjit_call_impl_python)\n",
      "    65/29    0.000    0.000    2.495    0.086 profiler.py:332(wrapper)\n",
      "        8    2.088    0.261    2.147    0.268 pxla.py:1168(__call__)\n",
      "      457    0.788    0.002    1.372    0.003 pixelgrid.py:226(chisq)\n",
      "     2330    0.948    0.000    0.948    0.000 {method 'dot' of 'numpy.ndarray' objects}\n",
      "\n",
      "\n"
     ]
    },
    {
     "data": {
      "text/plain": [
       "<pstats.Stats at 0x169529cc0>"
      ]
     },
     "execution_count": 3,
     "metadata": {},
     "output_type": "execute_result"
    }
   ],
   "source": [
    "# load data from a single ccd from subaru. Use the exact same input\n",
    "# of what is coming in Piff in LSST stack (in meas_extensions_piff)\n",
    "# reload to here to make sure start from the same starting point.\n",
    "\n",
    "dic = pickle.load(open('piff_input_2024-06-24_13-43-22.pkl', 'rb'))\n",
    "\n",
    "stars = copy.deepcopy(dic['stars'])\n",
    "wcs = copy.deepcopy(dic['wcs'])\n",
    "pointing = copy.deepcopy(dic['pointing'])\n",
    "piffConfig = copy.deepcopy(dic['piffConfig'])\n",
    "\n",
    "# enable jax just in some part of basis interp (mostly in _solve_direct)\n",
    "\n",
    "jaxPiffConfig = copy.deepcopy(piffConfig)\n",
    "jaxPiffConfig['interp'].update({'use_jax': True})\n",
    "print(jaxPiffConfig)\n",
    "\n",
    "logger = piff.config.setup_logger(verbose=2)\n",
    "piffResult = piff.PSF.process(jaxPiffConfig)\n",
    "\n",
    "def my_function():\n",
    "    piffResult.fit(stars, wcs, pointing, logger=logger)\n",
    "\n",
    "start = time.time()\n",
    "cProfile.run('my_function()', 'profile_data')\n",
    "end = time.time()\n",
    "\n",
    "jax_time = end - start\n",
    "\n",
    "print('Total run time: ' + str(jax_time))\n",
    "\n",
    "p = pstats.Stats('profile_data')\n",
    "p.strip_dirs().sort_stats('cumulative').print_stats(20)"
   ]
  },
  {
   "cell_type": "code",
   "execution_count": 4,
   "id": "23526bcd-d35e-426d-8d64-6261e8965abe",
   "metadata": {},
   "outputs": [
    {
     "name": "stdout",
     "output_type": "stream",
     "text": [
      "2.1506000942972974\n"
     ]
    }
   ],
   "source": [
    "print(current_time / jax_time)"
   ]
  }
 ],
 "metadata": {
  "kernelspec": {
   "display_name": "Python 3 (ipykernel)",
   "language": "python",
   "name": "python3"
  },
  "language_info": {
   "codemirror_mode": {
    "name": "ipython",
    "version": 3
   },
   "file_extension": ".py",
   "mimetype": "text/x-python",
   "name": "python",
   "nbconvert_exporter": "python",
   "pygments_lexer": "ipython3",
   "version": "3.10.14"
  }
 },
 "nbformat": 4,
 "nbformat_minor": 5
}
